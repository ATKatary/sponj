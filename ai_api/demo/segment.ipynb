{
 "cells": [
  {
   "cell_type": "code",
   "execution_count": null,
   "metadata": {},
   "outputs": [],
   "source": [
    "import sys \n",
    "from tqdm import tqdm\n",
    "sys.path.append(f\"../\")\n",
    "from utils import BASE_DIR\n",
    "from utils.segment import SegmentedSponjMesh\n",
    "\n",
    "meshes_dir = f\"{BASE_DIR.parent}/backend/3d_models\""
   ]
  },
  {
   "cell_type": "code",
   "execution_count": null,
   "metadata": {},
   "outputs": [],
   "source": [
    "mesh_name = \"pumpkin\"\n",
    "mesh_dir = f\"{meshes_dir}/{mesh_name}\"\n",
    "obj_path = f\"{mesh_dir}/{mesh_name}_sm_1.obj\"\n",
    "\n",
    "segmented_mesh = SegmentedSponjMesh(obj_path)"
   ]
  },
  {
   "cell_type": "code",
   "execution_count": null,
   "metadata": {},
   "outputs": [],
   "source": [
    "labels, n, duration = segmented_mesh.segment(k=3)\n",
    "print(f\"Segmented mesh into {n} segments in {duration} seconds\")"
   ]
  },
  {
   "cell_type": "code",
   "execution_count": null,
   "metadata": {},
   "outputs": [],
   "source": []
  }
 ],
 "metadata": {
  "kernelspec": {
   "display_name": "sponj_ai",
   "language": "python",
   "name": "python3"
  },
  "language_info": {
   "codemirror_mode": {
    "name": "ipython",
    "version": 3
   },
   "file_extension": ".py",
   "mimetype": "text/x-python",
   "name": "python",
   "nbconvert_exporter": "python",
   "pygments_lexer": "ipython3",
   "version": "3.10.14"
  }
 },
 "nbformat": 4,
 "nbformat_minor": 2
}
